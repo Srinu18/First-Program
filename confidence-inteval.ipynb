{
  "nbformat": 4,
  "nbformat_minor": 0,
  "metadata": {
    "colab": {
      "name": "Confidence inteval.ipynb",
      "provenance": [],
      "authorship_tag": "ABX9TyOyPE9hiW3d03nuEjjcbHDY",
      "include_colab_link": true
    },
    "kernelspec": {
      "name": "python3",
      "display_name": "Python 3"
    },
    "language_info": {
      "name": "python"
    }
  },
  "cells": [
    {
      "cell_type": "markdown",
      "metadata": {
        "id": "view-in-github",
        "colab_type": "text"
      },
      "source": [
        "<a href=\"https://colab.research.google.com/gist/Srinu18/d209e163e117804a68148eb42bbb6dd5/confidence-inteval.ipynb\" target=\"_parent\"><img src=\"https://colab.research.google.com/assets/colab-badge.svg\" alt=\"Open In Colab\"/></a>"
      ]
    },
    {
      "cell_type": "code",
      "execution_count": 1,
      "metadata": {
        "id": "6_xx7zzXb6e1"
      },
      "outputs": [],
      "source": [
        "from scipy import stats\n",
        "import pandas as pd\n",
        "import numpy as np\n"
      ]
    },
    {
      "cell_type": "code",
      "source": [
        "glaxo_df=pd.read_csv('glaxo_df.csv')"
      ],
      "metadata": {
        "id": "Y7qRfbJ7csWK"
      },
      "execution_count": 4,
      "outputs": []
    },
    {
      "cell_type": "code",
      "source": [
        "glaxo_df_ci = stats.norm.interval(0.975,loc=glaxo_df.gain.mean())\n",
        "print('Gain of 97.5% confidence interval is:',np.round(glaxo_df_ci, 4))"
      ],
      "metadata": {
        "colab": {
          "base_uri": "https://localhost:8080/"
        },
        "id": "j06dZFffcsZU",
        "outputId": "fb7b2e52-8468-44e9-f595-2055beeed3f4"
      },
      "execution_count": 15,
      "outputs": [
        {
          "output_type": "stream",
          "name": "stdout",
          "text": [
            "Gain of 97.5% confidence interval is: [-2.241   2.2418]\n"
          ]
        }
      ]
    },
    {
      "cell_type": "code",
      "source": [
        "beml_df=pd.read_csv('beml_df.csv')"
      ],
      "metadata": {
        "id": "26erZwhVcsc2"
      },
      "execution_count": 11,
      "outputs": []
    },
    {
      "cell_type": "code",
      "source": [
        "beml_df_ci = stats.norm.interval(0.95,loc=beml_df.gain.mean())\n",
        "print('Gain of 95% confidence interval is:',np.round(beml_df_ci, 4))"
      ],
      "metadata": {
        "colab": {
          "base_uri": "https://localhost:8080/"
        },
        "id": "xXYxrNI_csrs",
        "outputId": "0054dbad-81cf-48fd-8326-c541eef7a333"
      },
      "execution_count": 14,
      "outputs": [
        {
          "output_type": "stream",
          "name": "stdout",
          "text": [
            "Gain of 95% confidence interval is: [-1.9597  1.9602]\n"
          ]
        }
      ]
    },
    {
      "cell_type": "code",
      "source": [
        "stats.t.ppf(0.975,139)"
      ],
      "metadata": {
        "colab": {
          "base_uri": "https://localhost:8080/"
        },
        "id": "bw4XdDgPe29r",
        "outputId": "5b383a51-0c2a-47de-b90a-12a8b191cc41"
      },
      "execution_count": 17,
      "outputs": [
        {
          "output_type": "execute_result",
          "data": {
            "text/plain": [
              "1.977177724476122"
            ]
          },
          "metadata": {},
          "execution_count": 17
        }
      ]
    },
    {
      "cell_type": "code",
      "source": [
        "stats.t.interval(0.95,1737,beml_df.gain.mean(),beml_df.gain.std())"
      ],
      "metadata": {
        "colab": {
          "base_uri": "https://localhost:8080/"
        },
        "id": "_u_wuCH3e3BP",
        "outputId": "4b0c93a0-63fd-4635-ee58-9c08dcfa2aa4"
      },
      "execution_count": 18,
      "outputs": [
        {
          "output_type": "execute_result",
          "data": {
            "text/plain": [
              "(-0.05156885177136772, 0.05211034792948219)"
            ]
          },
          "metadata": {},
          "execution_count": 18
        }
      ]
    },
    {
      "cell_type": "code",
      "source": [
        "stats.t.interval(0.95,1737,glaxo_df.gain.mean(),glaxo_df.gain.std())"
      ],
      "metadata": {
        "colab": {
          "base_uri": "https://localhost:8080/"
        },
        "id": "yyJm9fsdfZJZ",
        "outputId": "ead64a1e-b333-479b-a53a-77ded435c231"
      },
      "execution_count": 20,
      "outputs": [
        {
          "output_type": "execute_result",
          "data": {
            "text/plain": [
              "(-0.025818392673534002, 0.02659047483871859)"
            ]
          },
          "metadata": {},
          "execution_count": 20
        }
      ]
    }
  ]
}